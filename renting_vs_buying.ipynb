{
  "metadata": {
    "kernelspec": {
      "name": "python",
      "display_name": "Python (Pyodide)",
      "language": "python"
    },
    "language_info": {
      "codemirror_mode": {
        "name": "python",
        "version": 3
      },
      "file_extension": ".py",
      "mimetype": "text/x-python",
      "name": "python",
      "nbconvert_exporter": "python",
      "pygments_lexer": "ipython3",
      "version": "3.8"
    }
  },
  "nbformat_minor": 4,
  "nbformat": 4,
  "cells": [
    {
      "cell_type": "code",
      "source": "%pip install numpy-financial",
      "metadata": {
        "trusted": true
      },
      "outputs": [],
      "execution_count": 10
    },
    {
      "cell_type": "code",
      "source": "import pandas as pd\nimport numpy_financial as np",
      "metadata": {
        "trusted": true
      },
      "outputs": [],
      "execution_count": 15
    },
    {
      "cell_type": "code",
      "source": "def calculate_buying_roi(property_price, deposit, mortgage_rate, mortgage_term, \n                         property_tax_rate, insurance_rate, maintenance_rate, appreciation_rate, \n                         closing_costs, selling_costs, time_horizon_years):\n    loan_amount = property_price - deposit\n    monthly_mortgage_payment = np.pmt(mortgage_rate/12, mortgage_term*12, -loan_amount)\n    total_mortgage_payment = monthly_mortgage_payment * mortgage_term * 12\n    \n    # Costs (property tax, insurance, maintenance)\n    total_property_tax = property_price * property_tax_rate * time_horizon_years\n    total_insurance = property_price * insurance_rate * time_horizon_years\n    total_maintenance = property_price * maintenance_rate * time_horizon_years\n    \n    # Appreciation of the property\n    final_property_value = property_price * (1 + appreciation_rate)**time_horizon_years\n    \n    # Total costs incurred over the time horizon\n    total_costs = total_mortgage_payment + total_property_tax + total_insurance + total_maintenance + closing_costs + selling_costs\n    \n    # ROI Calculation\n    net_value = final_property_value - total_costs\n    return net_value",
      "metadata": {
        "trusted": true
      },
      "outputs": [],
      "execution_count": 16
    },
    {
      "cell_type": "code",
      "source": "def calculate_renting_invest_roi(monthly_rent, rent_increase_rate, monthly_investment, investment_return_rate, time_horizon_years):\n    # Total rent cost over the time horizon\n    total_rent_paid = 0\n    for year in range(1, time_horizon_years + 1):\n        total_rent_paid += monthly_rent * 12 * (1 + rent_increase_rate)**(year-1)\n    \n    # Investment growth using compound interest\n    portfolio_value = 0\n    for year in range(1, time_horizon_years + 1):\n        portfolio_value += monthly_investment * 12 * (1 + investment_return_rate)**(time_horizon_years - year)\n    \n    net_value = portfolio_value - total_rent_paid\n    return net_value",
      "metadata": {
        "trusted": true
      },
      "outputs": [],
      "execution_count": 17
    },
    {
      "cell_type": "code",
      "source": "# Example usage\nproperty_price = 500000  # Price of the property\ndeposit = 100000    # Down payment\nmortgage_rate = 0.04     # Mortgage interest rate\nmortgage_term = 30       # Mortgage term in years\nproperty_tax_rate = 0.01 # Property tax rate (1%)\ninsurance_rate = 0.005   # Home insurance rate (0.5%)\nmaintenance_rate = 0.01  # Maintenance costs (1%)\nappreciation_rate = 0.03 # Property appreciation rate (3% annually)\nclosing_costs = 10000    # Closing costs\nselling_costs = 30000    # Realtor and other selling costs\ntime_horizon_years = 30  # Time horizon for comparison\n\nmonthly_rent = 2000      # Monthly rent\nrent_increase_rate = 0.02 # Annual rent increase rate (2%)\nmonthly_investment = 500  # Monthly investment if renting\ninvestment_return_rate = 0.07 # Annual return rate on investments\n\nbuying_roi = calculate_buying_roi(property_price, deposit, mortgage_rate, mortgage_term, \n                                  property_tax_rate, insurance_rate, maintenance_rate, appreciation_rate, \n                                  closing_costs, selling_costs, time_horizon_years)\n\nrenting_invest_roi = calculate_renting_invest_roi(monthly_rent, rent_increase_rate, \n                                                  monthly_investment, investment_return_rate, time_horizon_years)\n\nprint(f\"Buying ROI: {buying_roi}\")\nprint(f\"Renting + Investing ROI: {renting_invest_roi}\")",
      "metadata": {
        "trusted": true
      },
      "outputs": [
        {
          "name": "stdout",
          "text": "Buying ROI: 111153.21012457763\nRenting + Investing ROI: -406869.1829815643\n",
          "output_type": "stream"
        }
      ],
      "execution_count": 18
    },
    {
      "cell_type": "code",
      "source": "",
      "metadata": {
        "trusted": true
      },
      "outputs": [],
      "execution_count": null
    }
  ]
}